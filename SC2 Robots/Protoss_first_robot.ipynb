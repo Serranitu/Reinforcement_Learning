{
 "cells": [
  {
   "cell_type": "code",
   "execution_count": 1,
   "id": "d158b709",
   "metadata": {},
   "outputs": [
    {
     "name": "stdout",
     "output_type": "stream",
     "text": [
      "pygame 2.1.3 (SDL 2.0.22, Python 3.9.13)\n",
      "Hello from the pygame community. https://www.pygame.org/contribute.html\n"
     ]
    }
   ],
   "source": [
    "from pysc2.agents import base_agent\n",
    "from pysc2.env import sc2_env\n",
    "from pysc2.lib import actions, features\n",
    "from absl import app"
   ]
  },
  {
   "cell_type": "code",
   "execution_count": 10,
   "id": "9d472e69",
   "metadata": {},
   "outputs": [],
   "source": [
    "_PLAYER_RELATIVE = features.SCREEN_FEATURES.player_relative.index\n",
    "\n",
    "_UNIT_TYPE = features.SCREEN_FEATURES.unit_type.index\n",
    "_SELECTED = features.SCREEN_FEATURES.selected.index\n",
    "_PLAYER_FRIENDLY = 1\n",
    "_PLAYER_NEUTRAL = 3  # beacon/minerals\n",
    "_PLAYER_HOSTILE = 4\n",
    "_NO_OP = actions.FUNCTIONS.no_op.id\n",
    "_SELECT_UNIT_ID = 1\n",
    "\n",
    "_CONTROL_GROUP_SET = 1\n",
    "_CONTROL_GROUP_RECALL = 0\n",
    "\n",
    "_SELECT_CONTROL_GROUP = actions.FUNCTIONS.select_control_group.id\n",
    "_MOVE_SCREEN = actions.FUNCTIONS.Move_screen.id\n",
    "_ATTACK_SCREEN = actions.FUNCTIONS.Attack_screen.id\n",
    "_SELECT_ARMY = actions.FUNCTIONS.select_army.id\n",
    "_SELECT_UNIT = actions.FUNCTIONS.select_unit.id\n",
    "_SELECT_POINT = actions.FUNCTIONS.select_point.id\n",
    "\n",
    "_NOT_QUEUED = [0]\n",
    "_SELECT_ALL = [0]\n",
    "\n",
    "step_mul = 1\n",
    "steps = 20000"
   ]
  },
  {
   "cell_type": "code",
   "execution_count": 11,
   "id": "5e54facf",
   "metadata": {},
   "outputs": [],
   "source": [
    "class ProtossAgent(base_agent.BaseAgent):\n",
    "    \n",
    "    def __init__(self, env):\n",
    "        self.env = env\n",
    "    \n",
    "    def step(self, obs):\n",
    "        super(ProtossAgent, self).step(obs)\n",
    "    \n",
    "        return actions.FUNCTIONS.no_op()"
   ]
  },
  {
   "cell_type": "code",
   "execution_count": 12,
   "id": "c75155a4",
   "metadata": {},
   "outputs": [
    {
     "ename": "ValueError",
     "evalue": "You must specify the list of players.",
     "output_type": "error",
     "traceback": [
      "\u001b[1;31m---------------------------------------------------------------------------\u001b[0m",
      "\u001b[1;31mValueError\u001b[0m                                Traceback (most recent call last)",
      "\u001b[1;32m~\\AppData\\Local\\Temp\\ipykernel_17308\\2603489718.py\u001b[0m in \u001b[0;36m<module>\u001b[1;34m\u001b[0m\n\u001b[1;32m----> 1\u001b[1;33m with sc2_env.SC2Env(\n\u001b[0m\u001b[0;32m      2\u001b[0m     \u001b[0mmap_name\u001b[0m\u001b[1;33m=\u001b[0m\u001b[1;34m\"DefeatZerglingsAndBanelings\"\u001b[0m\u001b[1;33m,\u001b[0m\u001b[1;33m\u001b[0m\u001b[1;33m\u001b[0m\u001b[0m\n\u001b[0;32m      3\u001b[0m     \u001b[0mstep_mul\u001b[0m\u001b[1;33m=\u001b[0m\u001b[0mstep_mul\u001b[0m\u001b[1;33m,\u001b[0m\u001b[1;33m\u001b[0m\u001b[1;33m\u001b[0m\u001b[0m\n\u001b[0;32m      4\u001b[0m     \u001b[0mvisualize\u001b[0m\u001b[1;33m=\u001b[0m\u001b[1;32mTrue\u001b[0m\u001b[1;33m,\u001b[0m\u001b[1;33m\u001b[0m\u001b[1;33m\u001b[0m\u001b[0m\n\u001b[0;32m      5\u001b[0m     game_steps_per_episode=steps * step_mul) as env:\n",
      "\u001b[1;32m~\\Anaconda3\\lib\\site-packages\\pysc2\\env\\sc2_env.py\u001b[0m in \u001b[0;36m__init__\u001b[1;34m(self, map_name, battle_net_map, players, agent_interface_format, discount, discount_zero_after_timeout, visualize, step_mul, realtime, save_replay_episodes, replay_dir, replay_prefix, game_steps_per_episode, score_index, score_multiplier, random_seed, disable_fog, ensure_available_actions, version)\u001b[0m\n\u001b[0;32m    180\u001b[0m     \"\"\"\n\u001b[0;32m    181\u001b[0m     \u001b[1;32mif\u001b[0m \u001b[1;32mnot\u001b[0m \u001b[0mplayers\u001b[0m\u001b[1;33m:\u001b[0m\u001b[1;33m\u001b[0m\u001b[1;33m\u001b[0m\u001b[0m\n\u001b[1;32m--> 182\u001b[1;33m       \u001b[1;32mraise\u001b[0m \u001b[0mValueError\u001b[0m\u001b[1;33m(\u001b[0m\u001b[1;34m\"You must specify the list of players.\"\u001b[0m\u001b[1;33m)\u001b[0m\u001b[1;33m\u001b[0m\u001b[1;33m\u001b[0m\u001b[0m\n\u001b[0m\u001b[0;32m    183\u001b[0m \u001b[1;33m\u001b[0m\u001b[0m\n\u001b[0;32m    184\u001b[0m     \u001b[1;32mfor\u001b[0m \u001b[0mp\u001b[0m \u001b[1;32min\u001b[0m \u001b[0mplayers\u001b[0m\u001b[1;33m:\u001b[0m\u001b[1;33m\u001b[0m\u001b[1;33m\u001b[0m\u001b[0m\n",
      "\u001b[1;31mValueError\u001b[0m: You must specify the list of players."
     ]
    }
   ],
   "source": [
    "with sc2_env.SC2Env(\n",
    "    map_name=\"DefeatZerglingsAndBanelings\",\n",
    "    step_mul=step_mul,\n",
    "    visualize=True,\n",
    "    game_steps_per_episode=steps * step_mul) as env:\n",
    "\n",
    "    demo_replay = []\n",
    "\n",
    "    agent = ProtossAgent(env=env)\n",
    "    agent.env = env\n",
    "    run_loop.run_loop([agent], env, steps)\n"
   ]
  },
  {
   "cell_type": "code",
   "execution_count": null,
   "id": "f9a858af",
   "metadata": {},
   "outputs": [],
   "source": []
  }
 ],
 "metadata": {
  "kernelspec": {
   "display_name": "Python 3 (ipykernel)",
   "language": "python",
   "name": "python3"
  },
  "language_info": {
   "codemirror_mode": {
    "name": "ipython",
    "version": 3
   },
   "file_extension": ".py",
   "mimetype": "text/x-python",
   "name": "python",
   "nbconvert_exporter": "python",
   "pygments_lexer": "ipython3",
   "version": "3.9.13"
  }
 },
 "nbformat": 4,
 "nbformat_minor": 5
}
